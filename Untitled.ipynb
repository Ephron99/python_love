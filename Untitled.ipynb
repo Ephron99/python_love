{
 "cells": [
  {
   "cell_type": "code",
   "execution_count": 3,
   "id": "16077cb9-af3d-4c07-b48f-129141ea2a57",
   "metadata": {},
   "outputs": [
    {
     "name": "stdout",
     "output_type": "stream",
     "text": [
      "Ephron 25 1.75 True\n",
      "<class 'int'>\n"
     ]
    }
   ],
   "source": [
    "name = \"Ephron\"\n",
    "age = 25\n",
    "height = 1.75\n",
    "is_male = True\n",
    "\n",
    "print(name, age, height, is_male)\n",
    "print(type(age))\n"
   ]
  },
  {
   "cell_type": "code",
   "execution_count": 4,
   "id": "c4d2faa4-eebf-4e59-adc8-c6f552709f7b",
   "metadata": {},
   "outputs": [
    {
     "name": "stdout",
     "output_type": "stream",
     "text": [
      "Add: 13\n",
      "Subtract: 7\n",
      "Multiply: 30\n",
      "Divide: 3.3333333333333335\n",
      "Floor Divide: 3\n",
      "Modulus: 1\n",
      "Power: 1000\n",
      "Equal: False\n",
      "Greater: True\n",
      "Less: False\n",
      "AND: False\n",
      "OR: True\n",
      "NOT: False\n"
     ]
    }
   ],
   "source": [
    "#Explanation: Operators allow math and logic checks.\n",
    "a = 10\n",
    "b = 3\n",
    "\n",
    "# Arithmetic\n",
    "print(\"Add:\", a+b)\n",
    "print(\"Subtract:\", a-b)\n",
    "print(\"Multiply:\", a*b)\n",
    "print(\"Divide:\", a/b)      # float division\n",
    "print(\"Floor Divide:\", a//b) # integer division\n",
    "print(\"Modulus:\", a%b)\n",
    "print(\"Power:\", a**b)\n",
    "\n",
    "# Comparison\n",
    "print(\"Equal:\", a==b)\n",
    "print(\"Greater:\", a>b)\n",
    "print(\"Less:\", a<b)\n",
    "\n",
    "# Logical\n",
    "x = True\n",
    "y = False\n",
    "print(\"AND:\", x and y)\n",
    "print(\"OR:\", x or y)\n",
    "print(\"NOT:\", not x)\n"
   ]
  },
  {
   "cell_type": "code",
   "execution_count": 8,
   "id": "599a5b65-c84c-40ed-97ac-5e55176bfdce",
   "metadata": {},
   "outputs": [
    {
     "name": "stdout",
     "output_type": "stream",
     "text": [
      "Number is positive\n",
      "Odd\n",
      "Your grade: A\n",
      "Eligible for certificate\n"
     ]
    }
   ],
   "source": [
    "#Conditional Statements\n",
    "#If Statement\n",
    "num = 10\n",
    "if num > 0:\n",
    "    print (\"Number is positive\")\n",
    "#If-Else\n",
    "num = 7\n",
    "if num % 2 == 0:\n",
    "    print(\"Even\")\n",
    "else:\n",
    "    print(\"Odd\")\n",
    "#If-Elif-Else\n",
    "marks = 85\n",
    "if marks >= 90:\n",
    "    grade = \"A+\"\n",
    "elif marks >= 75:\n",
    "    grade = \"A\"\n",
    "elif marks >= 60:\n",
    "    grade = \"B\"\n",
    "elif marks >= 50:\n",
    "    grade = \"C\"\n",
    "else:\n",
    "    grade = \"F\"\n",
    "print(\"Your grade:\", grade)\n",
    "#Nested If\n",
    "age = 20\n",
    "marks = 70\n",
    "if age >= 18:\n",
    "    if marks >= 50:\n",
    "        print (\"Eligible for certificate\")\n",
    "    else:\n",
    "        print(\"Not eligible due to low marks\")\n",
    "else:\n",
    "    print(\"Too young\")\n"
   ]
  },
  {
   "cell_type": "code",
   "execution_count": null,
   "id": "6aee3f17-f712-4a32-8afd-3377dd723b72",
   "metadata": {},
   "outputs": [],
   "source": []
  }
 ],
 "metadata": {
  "kernelspec": {
   "display_name": "Python [conda env:base] *",
   "language": "python",
   "name": "conda-base-py"
  },
  "language_info": {
   "codemirror_mode": {
    "name": "ipython",
    "version": 3
   },
   "file_extension": ".py",
   "mimetype": "text/x-python",
   "name": "python",
   "nbconvert_exporter": "python",
   "pygments_lexer": "ipython3",
   "version": "3.13.5"
  }
 },
 "nbformat": 4,
 "nbformat_minor": 5
}
