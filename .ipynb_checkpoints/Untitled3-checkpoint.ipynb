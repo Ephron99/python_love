{
 "cells": [
  {
   "cell_type": "code",
   "execution_count": 1,
   "id": "dd623874-9e10-4c90-b967-ef7b655918a9",
   "metadata": {},
   "outputs": [
    {
     "name": "stdout",
     "output_type": "stream",
     "text": [
      "Alarm ON\n"
     ]
    }
   ],
   "source": [
    "# System-level pseudo code\n",
    "def home_security_system(door_sensor, window_sensor, motion_sensor, \n",
    "                         enable_door, enable_window, enable_motion):\n",
    "    \n",
    "    alarm = False\n",
    "    \n",
    "    # Check door sensor\n",
    "    if enable_door and door_sensor:\n",
    "        alarm = True\n",
    "    \n",
    "    # Check window sensor\n",
    "    if enable_window and window_sensor:\n",
    "        alarm = True\n",
    "    \n",
    "    # Check motion sensor\n",
    "    if enable_motion and motion_sensor:\n",
    "        alarm = True\n",
    "    \n",
    "    return alarm\n",
    "\n",
    "# Example usage:\n",
    "door = 0      # 0 = no intrusion, 1 = door opened\n",
    "window = 0\n",
    "motion = 1\n",
    "\n",
    "enable_door = 1\n",
    "enable_window = 1\n",
    "enable_motion = 1\n",
    "\n",
    "alarm_status = home_security_system(door, window, motion, enable_door, enable_window, enable_motion)\n",
    "print(\"Alarm ON\" if alarm_status else \"Alarm OFF\")\n"
   ]
  },
  {
   "cell_type": "code",
   "execution_count": null,
   "id": "7a8bd7a5-98b4-4e09-beba-4ff1a092be68",
   "metadata": {},
   "outputs": [],
   "source": []
  }
 ],
 "metadata": {
  "kernelspec": {
   "display_name": "Python [conda env:base] *",
   "language": "python",
   "name": "conda-base-py"
  },
  "language_info": {
   "codemirror_mode": {
    "name": "ipython",
    "version": 3
   },
   "file_extension": ".py",
   "mimetype": "text/x-python",
   "name": "python",
   "nbconvert_exporter": "python",
   "pygments_lexer": "ipython3",
   "version": "3.13.5"
  }
 },
 "nbformat": 4,
 "nbformat_minor": 5
}
