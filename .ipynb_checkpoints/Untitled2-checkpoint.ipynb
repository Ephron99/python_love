{
 "cells": [
  {
   "cell_type": "code",
   "execution_count": 1,
   "id": "710bdbd2-a6ba-4c5a-80c2-b2b20ee7d0c2",
   "metadata": {},
   "outputs": [
    {
     "name": "stdout",
     "output_type": "stream",
     "text": [
      "\n",
      "--- Current Stock ---\n",
      "Apples: 50\n",
      "Bananas: 30\n",
      "Oranges: 20\n",
      "---------------------\n",
      "\n",
      "10 Apples added successfully!\n",
      "5 Bananas sold successfully!\n",
      "Oranges available: 20\n",
      "\n",
      "--- Current Stock ---\n",
      "Apples: 60\n",
      "Bananas: 25\n",
      "Oranges: 20\n",
      "---------------------\n",
      "\n"
     ]
    }
   ],
   "source": [
    "# Simple Stock Management Program\n",
    "\n",
    "# Our stock (dictionary)\n",
    "stock = {\n",
    "    \"Apples\": 50,\n",
    "    \"Bananas\": 30,\n",
    "    \"Oranges\": 20\n",
    "}\n",
    "\n",
    "# Function to display stock\n",
    "def display_stock():\n",
    "    print(\"\\n--- Current Stock ---\")\n",
    "    for item, quantity in stock.items():\n",
    "        print(f\"{item}: {quantity}\")\n",
    "    print(\"---------------------\\n\")\n",
    "\n",
    "# Function to add stock\n",
    "def add_stock(item, quantity):\n",
    "    if item in stock:\n",
    "        stock[item] += quantity\n",
    "    else:\n",
    "        stock[item] = quantity\n",
    "    print(f\"{quantity} {item} added successfully!\")\n",
    "\n",
    "# Function to sell stock\n",
    "def sell_stock(item, quantity):\n",
    "    if item in stock and stock[item] >= quantity:\n",
    "        stock[item] -= quantity\n",
    "        print(f\"{quantity} {item} sold successfully!\")\n",
    "    else:\n",
    "        print(f\"Not enough {item} in stock!\")\n",
    "\n",
    "# Function to check quantity of a single item\n",
    "def check_item(item):\n",
    "    if item in stock:\n",
    "        print(f\"{item} available: {stock[item]}\")\n",
    "    else:\n",
    "        print(f\"{item} not found in stock!\")\n",
    "\n",
    "# --- Main Program ---\n",
    "display_stock()\n",
    "add_stock(\"Apples\", 10)\n",
    "sell_stock(\"Bananas\", 5)\n",
    "check_item(\"Oranges\")\n",
    "display_stock()\n"
   ]
  },
  {
   "cell_type": "code",
   "execution_count": null,
   "id": "ec88bc50-6d2f-4486-9e5c-9957a8eb9db3",
   "metadata": {},
   "outputs": [
    {
     "name": "stdout",
     "output_type": "stream",
     "text": [
      "\n",
      "Choose an option:\n",
      "1. Display Stock\n",
      "2. Add Stock\n",
      "3. Sell Stock\n",
      "4. Check Item\n",
      "5. Exit\n"
     ]
    },
    {
     "name": "stdin",
     "output_type": "stream",
     "text": [
      "Enter choice (1-5):  1\n"
     ]
    },
    {
     "name": "stdout",
     "output_type": "stream",
     "text": [
      "\n",
      "--- Current Stock ---\n",
      "Apples: 50\n",
      "Bananas: 30\n",
      "Oranges: 20\n",
      "---------------------\n",
      "\n",
      "\n",
      "Choose an option:\n",
      "1. Display Stock\n",
      "2. Add Stock\n",
      "3. Sell Stock\n",
      "4. Check Item\n",
      "5. Exit\n"
     ]
    },
    {
     "name": "stdin",
     "output_type": "stream",
     "text": [
      "Enter choice (1-5):  2\n",
      "Enter item name to add:  Amazi\n",
      "Enter quantity to add:  5\n"
     ]
    },
    {
     "name": "stdout",
     "output_type": "stream",
     "text": [
      "5 Amazi added successfully!\n",
      "\n",
      "Choose an option:\n",
      "1. Display Stock\n",
      "2. Add Stock\n",
      "3. Sell Stock\n",
      "4. Check Item\n",
      "5. Exit\n"
     ]
    },
    {
     "name": "stdin",
     "output_type": "stream",
     "text": [
      "Enter choice (1-5):  1\n"
     ]
    },
    {
     "name": "stdout",
     "output_type": "stream",
     "text": [
      "\n",
      "--- Current Stock ---\n",
      "Apples: 50\n",
      "Bananas: 30\n",
      "Oranges: 20\n",
      "Amazi: 5\n",
      "---------------------\n",
      "\n",
      "\n",
      "Choose an option:\n",
      "1. Display Stock\n",
      "2. Add Stock\n",
      "3. Sell Stock\n",
      "4. Check Item\n",
      "5. Exit\n"
     ]
    },
    {
     "name": "stdin",
     "output_type": "stream",
     "text": [
      "Enter choice (1-5):  3\n"
     ]
    }
   ],
   "source": [
    "# Simple Stock Management Program with User Input\n",
    "\n",
    "# Our stock (dictionary)\n",
    "stock = {\n",
    "    \"Apples\": 50,\n",
    "    \"Bananas\": 30,\n",
    "    \"Oranges\": 20\n",
    "}\n",
    "\n",
    "# Function to display stock\n",
    "def display_stock():\n",
    "    print(\"\\n--- Current Stock ---\")\n",
    "    for item, quantity in stock.items():\n",
    "        print(f\"{item}: {quantity}\")\n",
    "    print(\"---------------------\\n\")\n",
    "\n",
    "# Function to add stock\n",
    "def add_stock():\n",
    "    item = input(\"Enter item name to add: \")\n",
    "    quantity = int(input(\"Enter quantity to add: \"))\n",
    "    if item in stock:\n",
    "        stock[item] += quantity\n",
    "    else:\n",
    "        stock[item] = quantity\n",
    "    print(f\"{quantity} {item} added successfully!\")\n",
    "\n",
    "# Function to sell stock\n",
    "def sell_stock():\n",
    "    item = input(\"Enter item name to sell: \")\n",
    "    quantity = int(input(\"Enter quantity to sell: \"))\n",
    "    if item in stock and stock[item] >= quantity:\n",
    "        stock[item] -= quantity\n",
    "        print(f\"{quantity} {item} sold successfully!\")\n",
    "    else:\n",
    "        print(f\"Not enough {item} in stock!\")\n",
    "\n",
    "# Function to check item\n",
    "def check_item():\n",
    "    item = input(\"Enter item name to check: \")\n",
    "    if item in stock:\n",
    "        print(f\"{item} available: {stock[item]}\")\n",
    "    else:\n",
    "        print(f\"{item} not found in stock!\")\n",
    "\n",
    "# --- Main Program Loop ---\n",
    "while True:\n",
    "    print(\"\\nChoose an option:\")\n",
    "    print(\"1. Display Stock\")\n",
    "    print(\"2. Add Stock\")\n",
    "    print(\"3. Sell Stock\")\n",
    "    print(\"4. Check Item\")\n",
    "    print(\"5. Exit\")\n",
    "\n",
    "    choice = input(\"Enter choice (1-5): \")\n",
    "\n",
    "    if choice == \"1\":\n",
    "        display_stock()\n",
    "    elif choice == \"2\":\n",
    "        add_stock()\n",
    "    elif choice == \"3\":\n",
    "        sell_stock()\n",
    "    elif choice == \"4\":\n",
    "        check_item()\n",
    "    elif choice == \"5\":\n",
    "        print(\"Exiting program. Goodbye!\")\n",
    "        break\n",
    "    else:\n",
    "        print(\"Invalid choice, try again.\")\n"
   ]
  },
  {
   "cell_type": "code",
   "execution_count": null,
   "id": "ea44c0f3-51f8-498d-8d9c-4f6873e00d48",
   "metadata": {},
   "outputs": [],
   "source": []
  }
 ],
 "metadata": {
  "kernelspec": {
   "display_name": "Python [conda env:base] *",
   "language": "python",
   "name": "conda-base-py"
  },
  "language_info": {
   "codemirror_mode": {
    "name": "ipython",
    "version": 3
   },
   "file_extension": ".py",
   "mimetype": "text/x-python",
   "name": "python",
   "nbconvert_exporter": "python",
   "pygments_lexer": "ipython3",
   "version": "3.13.5"
  }
 },
 "nbformat": 4,
 "nbformat_minor": 5
}
