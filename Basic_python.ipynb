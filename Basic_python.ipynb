{
 "cells": [
  {
   "cell_type": "code",
   "execution_count": 1,
   "id": "710bdbd2-a6ba-4c5a-80c2-b2b20ee7d0c2",
   "metadata": {},
   "outputs": [
    {
     "name": "stdout",
     "output_type": "stream",
     "text": [
      "\n",
      "--- Current Stock ---\n",
      "Apples: 50\n",
      "Bananas: 30\n",
      "Oranges: 20\n",
      "---------------------\n",
      "\n",
      "10 Apples added successfully!\n",
      "5 Bananas sold successfully!\n",
      "Oranges available: 20\n",
      "\n",
      "--- Current Stock ---\n",
      "Apples: 60\n",
      "Bananas: 25\n",
      "Oranges: 20\n",
      "---------------------\n",
      "\n"
     ]
    }
   ],
   "source": [
    "# Simple Stock Management Program\n",
    "\n",
    "# Our stock (dictionary)\n",
    "stock = {\n",
    "    \"Apples\": 50,\n",
    "    \"Bananas\": 30,\n",
    "    \"Oranges\": 20\n",
    "}\n",
    "\n",
    "# Function to display stock\n",
    "def display_stock():\n",
    "    print(\"\\n--- Current Stock ---\")\n",
    "    for item, quantity in stock.items():\n",
    "        print(f\"{item}: {quantity}\")\n",
    "    print(\"---------------------\\n\")\n",
    "\n",
    "# Function to add stock\n",
    "def add_stock(item, quantity):\n",
    "    if item in stock:\n",
    "        stock[item] += quantity\n",
    "    else:\n",
    "        stock[item] = quantity\n",
    "    print(f\"{quantity} {item} added successfully!\")\n",
    "\n",
    "# Function to sell stock\n",
    "def sell_stock(item, quantity):\n",
    "    if item in stock and stock[item] >= quantity:\n",
    "        stock[item] -= quantity\n",
    "        print(f\"{quantity} {item} sold successfully!\")\n",
    "    else:\n",
    "        print(f\"Not enough {item} in stock!\")\n",
    "\n",
    "# Function to check quantity of a single item\n",
    "def check_item(item):\n",
    "    if item in stock:\n",
    "        print(f\"{item} available: {stock[item]}\")\n",
    "    else:\n",
    "        print(f\"{item} not found in stock!\")\n",
    "\n",
    "# --- Main Program ---\n",
    "display_stock()\n",
    "add_stock(\"Apples\", 10)\n",
    "sell_stock(\"Bananas\", 5)\n",
    "check_item(\"Oranges\")\n",
    "display_stock()\n"
   ]
  },
  {
   "cell_type": "code",
   "execution_count": 1,
   "id": "ec88bc50-6d2f-4486-9e5c-9957a8eb9db3",
   "metadata": {},
   "outputs": [
    {
     "name": "stdout",
     "output_type": "stream",
     "text": [
      "\n",
      "Choose an option:\n",
      "1. Display Stock\n",
      "2. Add Stock\n",
      "3. Sell Stock\n",
      "4. Check Item\n",
      "5. Exit\n"
     ]
    },
    {
     "name": "stdin",
     "output_type": "stream",
     "text": [
      "Enter choice (1-5):  2\n",
      "Enter item name to add:  nvnbvnb\n",
      "Enter quantity to add:  756\n"
     ]
    },
    {
     "name": "stdout",
     "output_type": "stream",
     "text": [
      "756 nvnbvnb added successfully!\n",
      "\n",
      "Choose an option:\n",
      "1. Display Stock\n",
      "2. Add Stock\n",
      "3. Sell Stock\n",
      "4. Check Item\n",
      "5. Exit\n"
     ]
    },
    {
     "name": "stdin",
     "output_type": "stream",
     "text": [
      "Enter choice (1-5):  5\n"
     ]
    },
    {
     "name": "stdout",
     "output_type": "stream",
     "text": [
      "Exiting program. Goodbye!\n"
     ]
    }
   ],
   "source": [
    "# Simple Stock Management Program with User Input\n",
    "\n",
    "# Our stock (dictionary)\n",
    "stock = {\n",
    "    \"Apples\": 50,\n",
    "    \"Bananas\": 30,\n",
    "    \"Oranges\": 20\n",
    "}\n",
    "\n",
    "# Function to display stock\n",
    "def display_stock():\n",
    "    print(\"\\n--- Current Stock ---\")\n",
    "    for item, quantity in stock.items():\n",
    "        print(f\"{item}: {quantity}\")\n",
    "    print(\"---------------------\\n\")\n",
    "\n",
    "# Function to add stock\n",
    "def add_stock():\n",
    "    item = input(\"Enter item name to add: \")\n",
    "    quantity = int(input(\"Enter quantity to add: \"))\n",
    "    if item in stock:\n",
    "        stock[item] += quantity\n",
    "    else:\n",
    "        stock[item] = quantity\n",
    "    print(f\"{quantity} {item} added successfully!\")\n",
    "\n",
    "# Function to sell stock\n",
    "def sell_stock():\n",
    "    item = input(\"Enter item name to sell: \")\n",
    "    quantity = int(input(\"Enter quantity to sell: \"))\n",
    "    if item in stock and stock[item] >= quantity:\n",
    "        stock[item] -= quantity\n",
    "        print(f\"{quantity} {item} sold successfully!\")\n",
    "    else:\n",
    "        print(f\"Not enough {item} in stock!\")\n",
    "\n",
    "# Function to check item\n",
    "def check_item():\n",
    "    item = input(\"Enter item name to check: \")\n",
    "    if item in stock:\n",
    "        print(f\"{item} available: {stock[item]}\")\n",
    "    else:\n",
    "        print(f\"{item} not found in stock!\")\n",
    "\n",
    "# --- Main Program Loop ---\n",
    "while True:\n",
    "    print(\"\\nChoose an option:\")\n",
    "    print(\"1. Display Stock\")\n",
    "    print(\"2. Add Stock\")\n",
    "    print(\"3. Sell Stock\")\n",
    "    print(\"4. Check Item\")\n",
    "    print(\"5. Exit\")\n",
    "\n",
    "    choice = input(\"Enter choice (1-5): \")\n",
    "\n",
    "    if choice == \"1\":\n",
    "        display_stock()\n",
    "    elif choice == \"2\":\n",
    "        add_stock()\n",
    "    elif choice == \"3\":\n",
    "        sell_stock()\n",
    "    elif choice == \"4\":\n",
    "        check_item()\n",
    "    elif choice == \"5\":\n",
    "        print(\"Exiting program. Goodbye!\")\n",
    "        break\n",
    "    else:\n",
    "        print(\"Invalid choice, try again.\")\n"
   ]
  },
  {
   "cell_type": "code",
   "execution_count": 4,
   "id": "ea44c0f3-51f8-498d-8d9c-4f6873e00d48",
   "metadata": {},
   "outputs": [
    {
     "name": "stdout",
     "output_type": "stream",
     "text": [
      "\n",
      "Choose an option:\n",
      "1. View balance\n",
      "2. saving\n",
      "3. Withdrow\n",
      "4. Exit\n"
     ]
    },
    {
     "name": "stdin",
     "output_type": "stream",
     "text": [
      "Enter choice (1-4):  1\n"
     ]
    },
    {
     "name": "stdout",
     "output_type": "stream",
     "text": [
      "\n",
      "--- Current balance ---\n",
      "Your balance now is \n",
      " 0\n",
      "\n",
      "Choose an option:\n",
      "1. View balance\n",
      "2. saving\n",
      "3. Withdrow\n",
      "4. Exit\n"
     ]
    },
    {
     "name": "stdin",
     "output_type": "stream",
     "text": [
      "Enter choice (1-4):  2\n",
      "Enter amaount to save:  6000\n"
     ]
    },
    {
     "ename": "UnboundLocalError",
     "evalue": "cannot access local variable 'balance' where it is not associated with a value",
     "output_type": "error",
     "traceback": [
      "\u001b[1;31m---------------------------------------------------------------------------\u001b[0m",
      "\u001b[1;31mUnboundLocalError\u001b[0m                         Traceback (most recent call last)",
      "Cell \u001b[1;32mIn[4], line 38\u001b[0m\n\u001b[0;32m     36\u001b[0m     display_balance()\n\u001b[0;32m     37\u001b[0m \u001b[38;5;28;01melif\u001b[39;00m choice \u001b[38;5;241m==\u001b[39m \u001b[38;5;124m\"\u001b[39m\u001b[38;5;124m2\u001b[39m\u001b[38;5;124m\"\u001b[39m:\n\u001b[1;32m---> 38\u001b[0m     add_to_balance()\n\u001b[0;32m     39\u001b[0m \u001b[38;5;28;01melif\u001b[39;00m choice \u001b[38;5;241m==\u001b[39m \u001b[38;5;124m\"\u001b[39m\u001b[38;5;124m3\u001b[39m\u001b[38;5;124m\"\u001b[39m:\n\u001b[0;32m     40\u001b[0m     withdrow()\n",
      "Cell \u001b[1;32mIn[4], line 13\u001b[0m, in \u001b[0;36madd_to_balance\u001b[1;34m()\u001b[0m\n\u001b[0;32m     11\u001b[0m \u001b[38;5;28;01mdef\u001b[39;00m\u001b[38;5;250m \u001b[39m\u001b[38;5;21madd_to_balance\u001b[39m():\n\u001b[0;32m     12\u001b[0m     money \u001b[38;5;241m=\u001b[39m \u001b[38;5;28mint\u001b[39m(\u001b[38;5;28minput\u001b[39m(\u001b[38;5;124m\"\u001b[39m\u001b[38;5;124mEnter amaount to save: \u001b[39m\u001b[38;5;124m\"\u001b[39m))\n\u001b[1;32m---> 13\u001b[0m     balance \u001b[38;5;241m+\u001b[39m\u001b[38;5;241m=\u001b[39m money\n\u001b[0;32m     14\u001b[0m     \u001b[38;5;28mprint\u001b[39m(\u001b[38;5;124m\"\u001b[39m\u001b[38;5;124mamount saved successfully!\u001b[39m\u001b[38;5;124m\"\u001b[39m)\n",
      "\u001b[1;31mUnboundLocalError\u001b[0m: cannot access local variable 'balance' where it is not associated with a value"
     ]
    }
   ],
   "source": [
    "account = '1234567890'\n",
    "balance=0\n",
    "\n",
    "# Function to display balance\n",
    "def display_balance():\n",
    "    print(\"\\n--- Current balance ---\")\n",
    "    \n",
    "    print(\"Your balance now is \\n\", balance)\n",
    "\n",
    "# Function to add Money\n",
    "def add_to_balance():\n",
    "    money = int(input(\"Enter amaount to save: \"))\n",
    "    balance += money\n",
    "    print(\"amount saved successfully!\")\n",
    "# Function to withdrow\n",
    "def withdrow():\n",
    "    withd_money = int(input(\"Enter amaount to withdrow: \"))\n",
    "    if withd_money <= balance:\n",
    "        balance -= withd_money\n",
    "        print(\"amount withdrown successfully!\")\n",
    "    else:\n",
    "        print(\"Not enough balance!\")\n",
    "\n",
    "\n",
    "# --- Main Program Loop ---\n",
    "while True:\n",
    "    print(\"\\nChoose an option:\")\n",
    "    print(\"1. View balance\")\n",
    "    print(\"2. saving\")\n",
    "    print(\"3. Withdrow\")\n",
    "    print(\"4. Exit\")\n",
    "\n",
    "    choice = input(\"Enter choice (1-4): \")\n",
    "\n",
    "    if choice == \"1\":\n",
    "        display_balance()\n",
    "    elif choice == \"2\":\n",
    "        add_to_balance()\n",
    "    elif choice == \"3\":\n",
    "        withdrow()\n",
    "    elif choice == \"4\":\n",
    "        print(\"Exiting program. Goodbye!\")\n",
    "        break\n",
    "    else:\n",
    "        print(\"Invalid choice, try again.\")\n"
   ]
  },
  {
   "cell_type": "code",
   "execution_count": null,
   "id": "cc62b08a-a49f-4a1b-ae45-04a494a41f89",
   "metadata": {},
   "outputs": [],
   "source": []
  },
  {
   "cell_type": "code",
   "execution_count": null,
   "id": "edecec21-fd61-442f-94c4-410e531cdf56",
   "metadata": {},
   "outputs": [],
   "source": []
  }
 ],
 "metadata": {
  "kernelspec": {
   "display_name": "Python [conda env:base] *",
   "language": "python",
   "name": "conda-base-py"
  },
  "language_info": {
   "codemirror_mode": {
    "name": "ipython",
    "version": 3
   },
   "file_extension": ".py",
   "mimetype": "text/x-python",
   "name": "python",
   "nbconvert_exporter": "python",
   "pygments_lexer": "ipython3",
   "version": "3.13.5"
  }
 },
 "nbformat": 4,
 "nbformat_minor": 5
}
